{
  "nbformat": 4,
  "nbformat_minor": 0,
  "metadata": {
    "colab": {
      "provenance": []
    },
    "kernelspec": {
      "name": "python3",
      "display_name": "Python 3"
    },
    "language_info": {
      "name": "python"
    }
  },
  "cells": [
    {
      "cell_type": "code",
      "execution_count": 2,
      "metadata": {
        "colab": {
          "base_uri": "https://localhost:8080/"
        },
        "id": "N6ruZzw6Sx0W",
        "outputId": "674b9548-06ac-44fb-9a34-6cfbb4da08c8"
      },
      "outputs": [
        {
          "output_type": "stream",
          "name": "stdout",
          "text": [
            "Logical Address: 0x3A7F => Page Fault at Page Number: 0x3a, Offset: 0x7f\n",
            "Logical Address: 0xABCD => Page Fault at Page Number: 0xab, Offset: 0xcd\n",
            "Logical Address: 0x5678 => Page Fault at Page Number: 0x56, Offset: 0x78\n"
          ]
        }
      ],
      "source": [
        "# Define the page/frame table as a dictionary\n",
        "page_frame_table = {\n",
        "    0x0D: 0x01,  # Mapping page 0x0D to frame 0x01\n",
        "    0x2B: 0x02,  # Mapping page 0x2B to frame 0x02\n",
        "    0x15: 0x03,  # Mapping page 0x15 to frame 0x03\n",
        "}\n",
        "\n",
        "# Function to translate logical address to physical address and extract page number and offset\n",
        "def translate_and_extract(logical_address_hex):\n",
        "    logical_address = int(logical_address_hex, 16)\n",
        "    page_number = logical_address >> 8\n",
        "    offset = logical_address & 0xFF  # Mask to get the last 8 bits\n",
        "\n",
        "    # Check for page fault\n",
        "    if page_number not in page_frame_table:\n",
        "        return (\"Page fault\", hex(page_number), hex(offset))\n",
        "\n",
        "    frame_number = page_frame_table[page_number]\n",
        "    physical_address = (frame_number << 8) | offset\n",
        "    return (hex(physical_address), hex(page_number), hex(offset))\n",
        "\n",
        "# Sample input addresses\n",
        "addresses = [\"0x3A7F\", \"0xABCD\", \"0x5678\"]\n",
        "\n",
        "# Process each address\n",
        "for addr in addresses:\n",
        "    result = translate_and_extract(addr)\n",
        "    if result[0] == \"Page fault\":\n",
        "        print(f\"Logical Address: {addr} => Page Fault at Page Number: {result[1]}, Offset: {result[2]}\")\n",
        "    else:\n",
        "        print(f\"Logical Address: {addr} => Physical Address: {result[0]}, Page Number: {result[1]}, Offset: {result[2]}\")\n"
      ]
    },
    {
      "cell_type": "code",
      "source": [],
      "metadata": {
        "id": "iTGCJ8rmTIos"
      },
      "execution_count": null,
      "outputs": []
    }
  ]
}